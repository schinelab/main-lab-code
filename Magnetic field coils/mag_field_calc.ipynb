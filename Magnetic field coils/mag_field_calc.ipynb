{
 "cells": [
  {
   "cell_type": "markdown",
   "id": "92050e39-2fc1-4a70-9506-7bf4efa16f17",
   "metadata": {},
   "source": [
    "# MOT Mag field calc/ gradient\n",
    "Goal: calculate the required mag field for the MOT to be able to better cancel out stray fields"
   ]
  },
  {
   "cell_type": "code",
   "execution_count": 2,
   "id": "f805a20a-3eb9-4ae7-9e20-a4068967540d",
   "metadata": {},
   "outputs": [],
   "source": [
    "import numpy as np\n",
    "import scipy.constants as cts    \n",
    "\n",
    "mu0 = cts.mu_0\n",
    "    "
   ]
  },
  {
   "cell_type": "markdown",
   "id": "4d95306b",
   "metadata": {},
   "source": [
    "# Lab Parameters"
   ]
  },
  {
   "cell_type": "code",
   "execution_count": 3,
   "id": "bb07cf9c",
   "metadata": {},
   "outputs": [],
   "source": [
    "I = 1 # current\n",
    "R = 2.150*25.4*1e-3 # minmum radius of the mot coils\n",
    "L = (4.800/2)*25.4*1e-3 # distance between bottoms of mot coils\n",
    "z = np.linspace"
   ]
  },
  {
   "cell_type": "code",
   "execution_count": 6,
   "id": "37bb62a5",
   "metadata": {},
   "outputs": [],
   "source": [
    "def ring_b_field_axial(current=I,radius=R,z_offset=z):\n",
    "    mag_z_field = (mu0*I*R**2)/(2*(z**2+R**2))\n",
    "    return mag_z_field\n"
   ]
  },
  {
   "cell_type": "code",
   "execution_count": null,
   "id": "bb114345",
   "metadata": {},
   "outputs": [],
   "source": [
    "mot_total_b_field = ring_b_field_axial(current=I,radius=R,z_offset=L/2)+ring_b_field_axial(current=I,radius=R,z_offset=L/2)"
   ]
  }
 ],
 "metadata": {
  "kernelspec": {
   "display_name": "Python 3 (ipykernel)",
   "language": "python",
   "name": "python3"
  },
  "language_info": {
   "codemirror_mode": {
    "name": "ipython",
    "version": 3
   },
   "file_extension": ".py",
   "mimetype": "text/x-python",
   "name": "python",
   "nbconvert_exporter": "python",
   "pygments_lexer": "ipython3",
   "version": "3.9.13"
  }
 },
 "nbformat": 4,
 "nbformat_minor": 5
}
