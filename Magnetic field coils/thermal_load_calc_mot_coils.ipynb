{
 "cells": [
  {
   "cell_type": "markdown",
   "id": "619b7dc3-9bc4-402a-aae6-60dba9793bee",
   "metadata": {},
   "source": [
    "# MOT coils thermal load calculation\n",
    "This file will contain all info for the mot coils thermal load calculations to be able to pick the right parts for mounting and be able to properly dissipate the amount of heat the coils will inevitably generate from the high current"
   ]
  },
  {
   "cell_type": "code",
   "execution_count": null,
   "id": "9d78c5f0-aabc-44ff-a320-c71d145ea925",
   "metadata": {},
   "outputs": [],
   "source": []
  }
 ],
 "metadata": {
  "kernelspec": {
   "display_name": "Python 3 (ipykernel)",
   "language": "python",
   "name": "python3"
  },
  "language_info": {
   "codemirror_mode": {
    "name": "ipython",
    "version": 3
   },
   "file_extension": ".py",
   "mimetype": "text/x-python",
   "name": "python",
   "nbconvert_exporter": "python",
   "pygments_lexer": "ipython3",
   "version": "3.9.13"
  }
 },
 "nbformat": 4,
 "nbformat_minor": 5
}
