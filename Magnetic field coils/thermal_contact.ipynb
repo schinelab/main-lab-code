{
 "cells": [
  {
   "cell_type": "code",
   "execution_count": 10,
   "id": "aba4cfe8-f008-448e-aac8-0cc2927d9ad3",
   "metadata": {},
   "outputs": [],
   "source": [
    "import numpy as np\n",
    "\n",
    "len_fingers = 0.400\n",
    "len_major_axis = 1.768\n",
    "num_fingers = 4\n",
    "num_contact_surfaces = num_fingers*2-1"
   ]
  },
  {
   "cell_type": "markdown",
   "id": "f8e1fe1f-a3ab-495b-adba-5cd462aea386",
   "metadata": {},
   "source": [
    "Total contact area:\n",
    "- Lb = len_major_axis\n",
    "- Lf = len_fingers\n",
    "- n = num_contact_surfaces\n",
    "\n",
    "$A = ((Lb-\\frac{Lf}{\\sqrt{2}})\\frac{Lf}{\\sqrt{2}} - \\frac{Lf^2}{2}) n$"
   ]
  },
  {
   "cell_type": "code",
   "execution_count": 12,
   "id": "8c6fa80e-d0f0-47ab-9aab-d1f41699b246",
   "metadata": {},
   "outputs": [
    {
     "name": "stdout",
     "output_type": "stream",
     "text": [
      "Contact area per surface: 0.5000659156551264 in^2\n",
      "Total contact area for three fingers: 1.500197746965379 in^2\n",
      "Total contact area for four fingers: 2.0002636626205055 in^2\n"
     ]
    }
   ],
   "source": [
    "contact_area = (len_major_axis-(len_fingers/np.sqrt(2)))*(len_fingers/np.sqrt(2))+(len_fingers/np.sqrt(2))**2\n",
    "total_contact_area_3 =contact_area*3\n",
    "total_contact_area_4 =contact_area*4\n",
    "\n",
    "print(\"Contact area per surface: \"+str(contact_area)+\" in^2\")\n",
    "print(\"Total contact area for three fingers: \"+str(total_contact_area_3)+\" in^2\")\n",
    "print(\"Total contact area for four fingers: \"+str(total_contact_area_4)+\" in^2\")"
   ]
  },
  {
   "cell_type": "code",
   "execution_count": null,
   "id": "e774dfbb-dbc3-4320-9a18-710cc7b22444",
   "metadata": {},
   "outputs": [],
   "source": []
  }
 ],
 "metadata": {
  "kernelspec": {
   "display_name": "Python 3 (ipykernel)",
   "language": "python",
   "name": "python3"
  },
  "language_info": {
   "codemirror_mode": {
    "name": "ipython",
    "version": 3
   },
   "file_extension": ".py",
   "mimetype": "text/x-python",
   "name": "python",
   "nbconvert_exporter": "python",
   "pygments_lexer": "ipython3",
   "version": "3.9.13"
  }
 },
 "nbformat": 4,
 "nbformat_minor": 5
}
